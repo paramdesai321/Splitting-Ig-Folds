{
 "cells": [
  {
   "cell_type": "code",
   "execution_count": 1,
   "id": "42afdeb3",
   "metadata": {},
   "outputs": [],
   "source": [
    "import numpy as np\n",
    "import matplotlib.pyplot as plt"
   ]
  },
  {
   "cell_type": "code",
   "execution_count": 6,
   "id": "5f3fb228",
   "metadata": {},
   "outputs": [],
   "source": [
    "class SVM: \n",
    "    \n",
    "    def __init__(self,learning_rate=0.001,lambda_param=0.01,n_inters=1000):\n",
    "        self.lr =learning_rate\n",
    "        self.lambda_param = lambda_param\n",
    "        self.n_iters = n_iters\n",
    "        self.w = None\n",
    "        self.b = None\n",
    "    def fit(self,X,y):\n",
    "        n_samples, n_features= X.shape\n",
    "        y = np.where(y<=0,-1,1) # if the element is less than equal to zero then it will be set -1 else 1\n",
    "        \n",
    "        #init weights\n",
    "        self.w = np.zeros(n_features)\n",
    "        self.b = 0\n",
    "        for _ in range(self.n_iters):\n",
    "            for idx, x_i in enuerate(x):\n",
    "                condition  = y_[idx] * (np.dot(x_i,self.w)-self.b) >= 1\n",
    "                if condition:\n",
    "                    self.w -= self.lr *(2*self.lambda_param*self.w)\n",
    "                    #no change in bias\n",
    "                else:\n",
    "                    self.w -= self.lr *(2*self.lambda_param * self.w - np.dot(x_i,y_[idx]))\n",
    "                    self.b -= self.lr * y_[idx]\n",
    "    \n",
    "    def predict(self,x):\n",
    "        arpprox  = np.dot(X,self.w) - self.b\n",
    "        return np.sign(approx)\n",
    "                \n",
    "                \n",
    "        "
   ]
  },
  {
   "cell_type": "code",
   "execution_count": null,
   "id": "68034c80",
   "metadata": {},
   "outputs": [],
   "source": []
  }
 ],
 "metadata": {
  "kernelspec": {
   "display_name": "Python 3 (ipykernel)",
   "language": "python",
   "name": "python3"
  },
  "language_info": {
   "codemirror_mode": {
    "name": "ipython",
    "version": 3
   },
   "file_extension": ".py",
   "mimetype": "text/x-python",
   "name": "python",
   "nbconvert_exporter": "python",
   "pygments_lexer": "ipython3",
   "version": "3.11.5"
  }
 },
 "nbformat": 4,
 "nbformat_minor": 5
}
